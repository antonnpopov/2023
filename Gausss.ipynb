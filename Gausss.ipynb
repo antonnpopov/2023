{
 "cells": [
  {
   "cell_type": "code",
   "execution_count": 1,
   "id": "c2c8619c",
   "metadata": {},
   "outputs": [
    {
     "name": "stdout",
     "output_type": "stream",
     "text": [
      "Введите кол-во уравнений системы\n",
      "2\n",
      "Введите матрицу коэфф-ов\n",
      "1 2\n",
      "3 4\n",
      "Введите столбец свободных коэфф-ов в строку\n",
      "1 2 3 4\n",
      "x 1 = 0.0\n",
      "x 2 = 0.5\n"
     ]
    }
   ],
   "source": [
    "import numpy as np\n",
    "  \n",
    "def is_pos_def(x):\n",
    "    return np.all(np.linalg.eigvals(x) > 0)\n",
    "\n",
    "n = int(input(\"Enter the size of the matrix: \"))"
   ]
  },
  {
   "cell_type": "code",
   "execution_count": null,
   "id": "e27270fb",
   "metadata": {},
   "outputs": [],
   "source": [
    "\n",
    "\n",
    "is_good_enough = False\n",
    "while not is_good_enough  :\n",
    "    x = np.arange(1,n)\n",
    "    V = []\n",
    "    for i in range(n):\n",
    "        y = np.random.randn(n)*2\n",
    "        V.append(y)\n",
    "    A = np.cov(V)\n",
    "    is_good_enough = is_pos_def(A)\n",
    "\n",
    "print ( is_pos_def(A))\n",
    "print(A)"
   ]
  },
  {
   "cell_type": "code",
   "execution_count": null,
   "id": "f252b082",
   "metadata": {},
   "outputs": [],
   "source": [
    "%%time\n",
    "\n",
    "def zerocolumn(a,n):\n",
    "    for z in range(n):    \n",
    "        p = a[z][z]\n",
    "        if p != 0:\n",
    "            for j in range(z,len(a[0])):\n",
    "                a[z][j] = a[z][j]/p\n",
    "        for i in range(z,n):\n",
    "            c = a[i][z]\n",
    "            if c != 0:\n",
    "                for j in range(z,len(a[i])):\n",
    "                    a[i][j] = a[i][j]*(a[z][z]/c)\n",
    "        for i in range(z+1,n):\n",
    "            for l in range(z,len(a[i])):\n",
    "                    a[i][l] = a[i][l] - a[z][l]\n",
    "    for z in range(1,n):\n",
    "        for i in range(n-z-1,-1,-1):\n",
    "            o = a[i][n-z]\n",
    "            for j in range(len(a[i])):\n",
    "                a[i][j] = a[i][j]-a[n-z][j]*o\n",
    "    return a\n",
    "print('Введите кол-во уравнений системы')\n",
    "n = int(input())\n",
    "print('Введите матрицу коэфф-ов')\n",
    "a = []\n",
    "for i in range(n):\n",
    "    row = input().split()\n",
    "    for i in range(len(row)):\n",
    "        row[i] = int(row[i])\n",
    "    a.append(row)\n",
    "print('Введите столбец свободных коэфф-ов в строку')\n",
    "k = list(map(int, input().split()))\n",
    "for i in range(n):\n",
    "    a[i].append(k[i])\n",
    "a = zerocolumn(a,n)\n",
    "for i in range(n):\n",
    "    print('x',i+1,'=', a[i][n])\n"
   ]
  }
 ],
 "metadata": {
  "kernelspec": {
   "display_name": "Python 3 (ipykernel)",
   "language": "python",
   "name": "python3"
  },
  "language_info": {
   "codemirror_mode": {
    "name": "ipython",
    "version": 3
   },
   "file_extension": ".py",
   "mimetype": "text/x-python",
   "name": "python",
   "nbconvert_exporter": "python",
   "pygments_lexer": "ipython3",
   "version": "3.10.9"
  }
 },
 "nbformat": 4,
 "nbformat_minor": 5
}
