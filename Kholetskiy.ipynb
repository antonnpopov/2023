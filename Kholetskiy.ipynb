{
 "cells": [
  {
   "cell_type": "code",
   "execution_count": 1,
   "id": "d7efff48",
   "metadata": {},
   "outputs": [
    {
     "name": "stdout",
     "output_type": "stream",
     "text": [
      "Enter the size of the matrix: 4\n"
     ]
    },
    {
     "name": "stderr",
     "output_type": "stream",
     "text": [
      "UsageError: Line magic function `%%time` not found.\n"
     ]
    }
   ],
   "source": [
    "import numpy as np\n",
    "  \n",
    "def is_pos_def(x):\n",
    "    return np.all(np.linalg.eigvals(x) > 0)\n",
    "\n",
    "n = int(input(\"Enter the size of the matrix: \"))\n",
    "\n",
    "%%time\n",
    "\n",
    "\n",
    "is_good_enough = False\n",
    "while not is_good_enough  :\n",
    "    x = np.arange(1,n)\n",
    "    V = []\n",
    "    for i in range(n):\n",
    "        y = np.random.randn(n)*2\n",
    "        V.append(y)\n",
    "    A = np.cov(V)\n",
    "    is_good_enough = is_pos_def(A)\n",
    "\n",
    "print ( is_pos_def(A))\n",
    "print(A)\n",
    "\n",
    "n=int(input()) \n",
    "a=np.array([[float(i) for i in input().split()]for j in range(n)]) \n",
    "l=np.linalg.cholesky(a) \n",
    "print(l) \n",
    "b=np.array([[float(i) for i in input().split()]for j in range(n)]) \n",
    "l1=np.linalg.inv(l) \n",
    "y=l1.dot(b) \n",
    "lt=np.transpose(l) \n",
    "lt1=np.linalg.inv(lt) \n",
    "x=lt1.dot(y) \n",
    "print(x)"
   ]
  },
  {
   "cell_type": "code",
   "execution_count": null,
   "id": "8981a20e",
   "metadata": {},
   "outputs": [],
   "source": []
  }
 ],
 "metadata": {
  "kernelspec": {
   "display_name": "Python 3 (ipykernel)",
   "language": "python",
   "name": "python3"
  },
  "language_info": {
   "codemirror_mode": {
    "name": "ipython",
    "version": 3
   },
   "file_extension": ".py",
   "mimetype": "text/x-python",
   "name": "python",
   "nbconvert_exporter": "python",
   "pygments_lexer": "ipython3",
   "version": "3.10.9"
  }
 },
 "nbformat": 4,
 "nbformat_minor": 5
}
